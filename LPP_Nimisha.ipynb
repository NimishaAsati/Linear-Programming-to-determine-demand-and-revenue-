{
 "cells": [
  {
   "cell_type": "code",
   "execution_count": 1,
   "metadata": {},
   "outputs": [],
   "source": [
    "import numpy\n",
    "import random\n",
    "import math\n",
    "from scipy.optimize import linprog"
   ]
  },
  {
   "cell_type": "markdown",
   "metadata": {},
   "source": [
    "### Deterministic Linear Programming Model"
   ]
  },
  {
   "cell_type": "code",
   "execution_count": 2,
   "metadata": {},
   "outputs": [
    {
     "name": "stdout",
     "output_type": "stream",
     "text": [
      "Revenue is 10833.333333333334\n",
      "Optimal Allocation are [1500.            0.          416.66666667]\n"
     ]
    }
   ],
   "source": [
    "A = [[0.050,0.500,0.300],[0.020,0,0.100],[0.030,0,0.100],[1,0,0],[0,1,0],[0,0,1]]\n",
    "c = [-5,-3,-8]\n",
    "b = [200,100,150,1500,500,800]\n",
    "result = linprog(c, A_ub=A, b_ub=b)\n",
    "print('Revenue is '+str(-result.fun))\n",
    "print('Optimal Allocation are '+str(result.x))"
   ]
  },
  {
   "cell_type": "code",
   "execution_count": 59,
   "metadata": {},
   "outputs": [
    {
     "name": "stdout",
     "output_type": "stream",
     "text": [
      "Revenue is 10833.333333333332\n",
      "Shadow prices are [26.66666667  0.          0.          3.66666667  0.          0.        ]\n"
     ]
    }
   ],
   "source": [
    "A = [[-0.05,-0.02,-0.03,-1,0,0],[-0.5,0,0,0,-1,0],[-0.3,-0.1,-0.1,0,0,-1]]\n",
    "c = [200,100,150,1500,500,800]\n",
    "b = [-5,-3,-8]\n",
    "result = linprog(c, A_ub=A, b_ub=b)\n",
    "print('Revenue is '+str(result.fun))\n",
    "print('Shadow prices are '+str(result.x))"
   ]
  },
  {
   "cell_type": "code",
   "execution_count": 14,
   "metadata": {},
   "outputs": [
    {
     "name": "stdout",
     "output_type": "stream",
     "text": [
      "Revenue is 30700.0\n",
      "Seats allocated are [55.  0. 75.  0. 45.  0.]\n"
     ]
    }
   ],
   "source": [
    "A = [[1,1,0,0,1,1],[0,0,1,1,1,1],[1,0,0,0,0,0],[0,1,0,0,0,0],[0,0,1,0,0,0],[0,0,0,1,0,0],[0,0,0,0,1,0],[0,0,0,0,0,1]]\n",
    "c = [-175,-100,-125,-75,-260,-175]\n",
    "b = [100,120,60,22.5,75,45,75,7.5]\n",
    "result = linprog(c, A_ub=A, b_ub=b)\n",
    "print('Revenue is '+str(-result.fun))\n",
    "print('Seats allocated are '+str(result.x))"
   ]
  },
  {
   "cell_type": "code",
   "execution_count": 17,
   "metadata": {},
   "outputs": [
    {
     "name": "stdout",
     "output_type": "stream",
     "text": [
      "Revenue is 30700.0\n",
      "Seats allocated are [175.  85.   0.   0.  40.   0.   0.   0.]\n"
     ]
    }
   ],
   "source": [
    "A = [[-1,0,-1,0,0,0,0,0],[-1,0,0,-1,0,0,0,0],[0,-1,0,0,-1,0,0,0],[0,-1,0,0,0,-1,0,0],[-1,-1,0,0,0,0,-1,0],[-1,-1,0,0,0,0,0,-1]]\n",
    "c = [100,120,60,22.5,75,45,75,7.5]\n",
    "b = [-175,-100,-125,-75,-260,-175]\n",
    "result = linprog(c, A_ub=A, b_ub=b)\n",
    "print('Revenue is '+str(result.fun))\n",
    "print('Seats allocated are '+str(result.x))"
   ]
  },
  {
   "cell_type": "markdown",
   "metadata": {},
   "source": [
    "### Randomized Linear Programmming Model"
   ]
  },
  {
   "cell_type": "code",
   "execution_count": 5,
   "metadata": {},
   "outputs": [
    {
     "name": "stdout",
     "output_type": "stream",
     "text": [
      "Revenue is 27969.775\n",
      "Seats allocated are [33.  0. 39. 14. 42. 25.]\n"
     ]
    }
   ],
   "source": [
    "A = [[1,1,0,0,1,1],[0,0,1,1,1,1],[1,0,0,0,0,0],[0,1,0,0,0,0],[0,0,1,0,0,0],[0,0,0,1,0,0],[0,0,0,0,1,0],[0,0,0,0,0,1]]\n",
    "c = [-175,-100,-125,-75,-260,-175]\n",
    "T = 300\n",
    "lbda = [0.05,0.2,0.075,0.25,0.15,0.25,0.025]\n",
    "Valuesamples = []\n",
    "for k in range(1000):   #Samples\n",
    "    Demandsample = [0,0,0,0,0,0,0] #Initialize the demands\n",
    "    for time in range(T): #Sample the demand for different products at each time\n",
    "        product = int(numpy.random.choice([0,1,2,3,4,5,6],1,lbda))\n",
    "        Demandsample[product] += 1\n",
    "   \n",
    "    b = [100,120]+Demandsample[1:]\n",
    "    result = linprog(c, A_ub=A, b_ub=b)\n",
    "    Valuesamples.append(-result.fun)\n",
    "print('Revenue is '+str(sum(Valuesamples)/len(Valuesamples)))\n",
    "print('Seats allocated are '+str(result.x))\n",
    "\n"
   ]
  },
  {
   "cell_type": "code",
   "execution_count": null,
   "metadata": {},
   "outputs": [],
   "source": []
  }
 ],
 "metadata": {
  "kernelspec": {
   "display_name": "Python 3",
   "language": "python",
   "name": "python3"
  },
  "language_info": {
   "codemirror_mode": {
    "name": "ipython",
    "version": 3
   },
   "file_extension": ".py",
   "mimetype": "text/x-python",
   "name": "python",
   "nbconvert_exporter": "python",
   "pygments_lexer": "ipython3",
   "version": "3.7.3"
  }
 },
 "nbformat": 4,
 "nbformat_minor": 2
}
